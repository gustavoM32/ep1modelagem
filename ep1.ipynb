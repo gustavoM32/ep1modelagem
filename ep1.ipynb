{
 "cells": [
  {
   "cell_type": "markdown",
   "metadata": {
    "colab_type": "text",
    "id": "view-in-github"
   },
   "source": [
    "<a href=\"https://colab.research.google.com/github/siolinm/ep1modelagem/blob/master/ep1.ipynb\" target=\"_parent\"><img src=\"https://colab.research.google.com/assets/colab-badge.svg\" alt=\"Open In Colab\"/></a>"
   ]
  },
  {
   "cell_type": "markdown",
   "metadata": {
    "colab_type": "text",
    "id": "zqvSg7eeEawc"
   },
   "source": [
    "<h1>EP1 MODELAGEM</h1>\n",
    "\n",
    "<h5>Nomes:</h5>\n",
    "\n",
    "- Davi de Menezes Pereira, 11221988\n",
    "- Gustavo de Medeiros Carlos, 11276298\n",
    "- Lucas Irineu Rebouças Guimarães, 11221713\n",
    "- Luciano Rodrigues Saraiva Leão, 11221817\n",
    "- Luiza Barros Reis Soezima, 11221842\n",
    "- Marcos Siolin Martins, 11221709\n",
    "\n"
   ]
  },
  {
   "cell_type": "markdown",
   "metadata": {
    "colab_type": "text",
    "id": "yinKUWtGL47a"
   },
   "source": [
    "<h3>Não esquecer de utilizar a notação descrita no Enunciado</h3>\n"
   ]
  },
  {
   "cell_type": "markdown",
   "metadata": {
    "colab_type": "text",
    "id": "-8H9dLxbLZ_m"
   },
   "source": [
    "<h4>Imports</h4>"
   ]
  },
  {
   "cell_type": "code",
   "execution_count": 0,
   "metadata": {
    "colab": {},
    "colab_type": "code",
    "collapsed": true,
    "id": "tVaZJoWhLWUm"
   },
   "outputs": [],
   "source": [
    "import numpy as np\n",
    "import matplotlib.pyplot as plt\n",
    "import pandas as pd"
   ]
  },
  {
   "cell_type": "markdown",
   "metadata": {
    "colab_type": "text",
    "id": "-93ilG2nJKk-"
   },
   "source": [
    "<h2>Movimento retilíneo uniforme e uniformemente variado</h2>\n",
    "\n"
   ]
  },
  {
   "cell_type": "markdown",
   "metadata": {
    "colab_type": "text",
    "id": "tROuCO3jKGem"
   },
   "source": [
    "<h4>Solução analítica sem atrito</h4>\n",
    "\n",
    "Temos nesses dois movimentos a aceleração é constante e chamaremos ela de $a_s$, no caso do movimento retilínio uniforme $a_s = 0$. Resolveremos a equação diferencial\n",
    "$$\\begin{align*}\n",
    "    \\frac{d^2}{{dt}^2}x_s(t) &= a_s \\\\\n",
    "    \\int \\frac{d^2}{{dt}^2}x_s(t) dx &= \\int a_s dx \\\\\n",
    "\\end{align*}$$\n"
   ]
  },
  {
   "cell_type": "code",
   "execution_count": 0,
   "metadata": {
    "colab": {},
    "colab_type": "code",
    "collapsed": true,
    "id": "vxgKvTNUKYu1"
   },
   "outputs": [],
   "source": [
    "def proxAnalitico(t, params):\n",
    "    return params[0] * t * t / 2 + params[1] * t + params[2]"
   ]
  },
  {
   "cell_type": "markdown",
   "metadata": {
    "colab_type": "text",
    "id": "Vc132-GcKZRw"
   },
   "source": [
    "<h4>Solução de Euler sem atrito</h4>\n",
    "\n",
    "Explicação aqui"
   ]
  },
  {
   "cell_type": "code",
   "execution_count": 0,
   "metadata": {
    "colab": {},
    "colab_type": "code",
    "collapsed": true,
    "id": "Ux2L2pzBKlnu"
   },
   "outputs": [],
   "source": [
    "def proxEuler(x, t, dt, params):\n",
    "    return x + (params[0] * t + params[1]) * dt"
   ]
  },
  {
   "cell_type": "markdown",
   "metadata": {
    "colab_type": "text",
    "id": "m7IO4K9cKmFF"
   },
   "source": [
    "<h4>Comparação das duas implementações e diferenças encontradas</h4>\n",
    "\n",
    "Explicação aqui"
   ]
  },
  {
   "cell_type": "code",
   "execution_count": 0,
   "metadata": {
    "colab": {},
    "colab_type": "code",
    "collapsed": true,
    "id": "xrMQR3QgKzDp"
   },
   "outputs": [],
   "source": []
  },
  {
   "cell_type": "markdown",
   "metadata": {
    "colab_type": "text",
    "id": "fvJe7IW_K1tJ"
   },
   "source": [
    "<h4>Solução de Euler com atrito</h4>\n",
    "\n",
    "Explicação aqui"
   ]
  },
  {
   "cell_type": "code",
   "execution_count": 0,
   "metadata": {
    "colab": {},
    "colab_type": "code",
    "collapsed": true,
    "id": "20Wiry0hK8ET"
   },
   "outputs": [],
   "source": []
  },
  {
   "cell_type": "markdown",
   "metadata": {
    "colab_type": "text",
    "id": "EvegQbwQLP0b"
   },
   "source": [
    "<h4>Animação</h4>"
   ]
  },
  {
   "cell_type": "code",
   "execution_count": 0,
   "metadata": {
    "colab": {},
    "colab_type": "code",
    "collapsed": true,
    "id": "LJihmMEELUWH"
   },
   "outputs": [],
   "source": [
    "t = 0\n",
    "tf = 10\n",
    "params = [-10, -0.1, 1000]\n",
    "x = params[2]\n",
    "\n",
    "while t < tf:\n",
    "    print(str(t) + \": \" + str(proxAnalitico(t, params)))\n",
    "    print(str(t) + \": \" + str(x))\n",
    "    x = proxEuler(x, t, 1, params)\n",
    "    t += 1\n",
    "    "
   ]
  },
  {
   "cell_type": "markdown",
   "metadata": {
    "colab_type": "text",
    "id": "iyJsGgK2NIuv"
   },
   "source": [
    "\n",
    "\n",
    "\n",
    "\n",
    "\n",
    "\n",
    "---\n",
    "\n",
    "---"
   ]
  },
  {
   "cell_type": "markdown",
   "metadata": {
    "colab_type": "text",
    "id": "U2mEIetlMX0h"
   },
   "source": [
    "<h2>Queda Livre</h2>\n",
    "\n"
   ]
  },
  {
   "cell_type": "markdown",
   "metadata": {
    "colab_type": "text",
    "id": "SLsb8y5WMX0u"
   },
   "source": [
    "<h4>Solução analítica sem atrito</h4>\n",
    "\n",
    "Explicação aqui"
   ]
  },
  {
   "cell_type": "code",
   "execution_count": 20,
   "metadata": {
    "colab": {},
    "colab_type": "code",
    "collapsed": false,
    "id": "fdQ3O3tCMX02"
   },
   "outputs": [],
   "source": []
  },
  {
   "cell_type": "markdown",
   "metadata": {
    "colab_type": "text",
    "id": "BpKRssXBMX1K"
   },
   "source": [
    "<h4>Solução de Euler sem atrito</h4>\n",
    "\n",
    "Explicação aqui"
   ]
  },
  {
   "cell_type": "code",
   "execution_count": 0,
   "metadata": {
    "colab": {},
    "colab_type": "code",
    "collapsed": true,
    "id": "8K5GXyLqMX1M"
   },
   "outputs": [],
   "source": []
  },
  {
   "cell_type": "markdown",
   "metadata": {
    "colab_type": "text",
    "id": "x8fjEyQMMX1X"
   },
   "source": [
    "<h4>Comparação das duas implementações e diferenças encontradas</h4>\n",
    "\n",
    "Explicação aqui"
   ]
  },
  {
   "cell_type": "code",
   "execution_count": 0,
   "metadata": {
    "colab": {},
    "colab_type": "code",
    "collapsed": true,
    "id": "wkDoWkemMX1X"
   },
   "outputs": [],
   "source": []
  },
  {
   "cell_type": "markdown",
   "metadata": {
    "colab_type": "text",
    "id": "ZG9wKoY0MX1e"
   },
   "source": [
    "<h4>Solução de Euler com atrito</h4>\n",
    "\n",
    "Explicação aqui"
   ]
  },
  {
   "cell_type": "code",
   "execution_count": 0,
   "metadata": {
    "colab": {},
    "colab_type": "code",
    "collapsed": true,
    "id": "nibDE1S4MX1f"
   },
   "outputs": [],
   "source": []
  },
  {
   "cell_type": "markdown",
   "metadata": {
    "colab_type": "text",
    "id": "dtl0RiNCMX1m"
   },
   "source": [
    "<h4>Animação</h4>"
   ]
  },
  {
   "cell_type": "code",
   "execution_count": 0,
   "metadata": {
    "colab": {},
    "colab_type": "code",
    "collapsed": true,
    "id": "NrUojR8TMX1n"
   },
   "outputs": [],
   "source": []
  },
  {
   "cell_type": "markdown",
   "metadata": {
    "colab_type": "text",
    "id": "k8X9UpF_M5fr"
   },
   "source": [
    "\n",
    "\n",
    "---\n",
    "\n",
    "---"
   ]
  },
  {
   "cell_type": "markdown",
   "metadata": {
    "colab_type": "text",
    "id": "GKc3TwkTMYiA"
   },
   "source": [
    "<h2>Pêndulo</h2>\n",
    "\n"
   ]
  },
  {
   "cell_type": "markdown",
   "metadata": {
    "colab_type": "text",
    "id": "_yshH0VtMYiH"
   },
   "source": [
    "<h4>Solução analítica sem atrito</h4>\n",
    "\n",
    "Explicação aqui"
   ]
  },
  {
   "cell_type": "code",
   "execution_count": 0,
   "metadata": {
    "colab": {},
    "colab_type": "code",
    "collapsed": true,
    "id": "_H91VPzSMYiM"
   },
   "outputs": [],
   "source": []
  },
  {
   "cell_type": "markdown",
   "metadata": {
    "colab_type": "text",
    "id": "3qbtzR2gMYic"
   },
   "source": [
    "<h4>Solução de Euler sem atrito</h4>\n",
    "\n",
    "Explicação aqui"
   ]
  },
  {
   "cell_type": "code",
   "execution_count": 0,
   "metadata": {
    "colab": {},
    "colab_type": "code",
    "collapsed": true,
    "id": "oPIn_PQ4MYie"
   },
   "outputs": [],
   "source": []
  },
  {
   "cell_type": "markdown",
   "metadata": {
    "colab_type": "text",
    "id": "PuCyEihNMYim"
   },
   "source": [
    "<h4>Comparação das duas implementações e diferenças encontradas</h4>\n",
    "\n",
    "Explicação aqui"
   ]
  },
  {
   "cell_type": "code",
   "execution_count": 0,
   "metadata": {
    "colab": {},
    "colab_type": "code",
    "collapsed": true,
    "id": "eZNQMQ0VMYin"
   },
   "outputs": [],
   "source": []
  },
  {
   "cell_type": "markdown",
   "metadata": {
    "colab_type": "text",
    "id": "c82QPqJVMYit"
   },
   "source": [
    "<h4>Solução de Euler com atrito</h4>\n",
    "\n",
    "Explicação aqui"
   ]
  },
  {
   "cell_type": "code",
   "execution_count": 0,
   "metadata": {
    "colab": {},
    "colab_type": "code",
    "collapsed": true,
    "id": "5eGAotQNMYiv"
   },
   "outputs": [],
   "source": []
  },
  {
   "cell_type": "markdown",
   "metadata": {
    "colab_type": "text",
    "id": "jeK6VbmdMYi1"
   },
   "source": [
    "<h4>Animação</h4>"
   ]
  },
  {
   "cell_type": "code",
   "execution_count": 0,
   "metadata": {
    "colab": {},
    "colab_type": "code",
    "collapsed": true,
    "id": "q_-njFM8MYi2"
   },
   "outputs": [],
   "source": []
  },
  {
   "cell_type": "markdown",
   "metadata": {
    "colab_type": "text",
    "id": "rtvj8kw6NKSb"
   },
   "source": [
    "\n",
    "\n",
    "---\n",
    "\n",
    "---"
   ]
  },
  {
   "cell_type": "markdown",
   "metadata": {
    "colab_type": "text",
    "id": "b-yY2T97Mezv"
   },
   "source": [
    "<h2>Bloco em rampa</h2>\n",
    "\n"
   ]
  },
  {
   "cell_type": "markdown",
   "metadata": {
    "colab_type": "text",
    "id": "tPrY-dQLMe0D"
   },
   "source": [
    "<h4>Solução analítica sem atrito</h4>\n",
    "\n",
    "Explicação aqui"
   ]
  },
  {
   "cell_type": "code",
   "execution_count": 0,
   "metadata": {
    "colab": {},
    "colab_type": "code",
    "collapsed": true,
    "id": "94Q79ygDMe0P"
   },
   "outputs": [],
   "source": []
  },
  {
   "cell_type": "markdown",
   "metadata": {
    "colab_type": "text",
    "id": "21YopoDjMe0k"
   },
   "source": [
    "<h4>Solução de Euler sem atrito</h4>\n",
    "\n",
    "Explicação aqui"
   ]
  },
  {
   "cell_type": "code",
   "execution_count": 0,
   "metadata": {
    "colab": {},
    "colab_type": "code",
    "collapsed": true,
    "id": "0RD5WDaXMe0n"
   },
   "outputs": [],
   "source": []
  },
  {
   "cell_type": "markdown",
   "metadata": {
    "colab_type": "text",
    "id": "ICdGmITWMe01"
   },
   "source": [
    "<h4>Comparação das duas implementações e diferenças encontradas</h4>\n",
    "\n",
    "Explicação aqui"
   ]
  },
  {
   "cell_type": "code",
   "execution_count": 0,
   "metadata": {
    "colab": {},
    "colab_type": "code",
    "collapsed": true,
    "id": "r6QPrDfkMe01"
   },
   "outputs": [],
   "source": []
  },
  {
   "cell_type": "markdown",
   "metadata": {
    "colab_type": "text",
    "id": "dkE_WzShMe08"
   },
   "source": [
    "<h4>Solução de Euler com atrito</h4>\n",
    "\n",
    "Explicação aqui"
   ]
  },
  {
   "cell_type": "code",
   "execution_count": 0,
   "metadata": {
    "colab": {},
    "colab_type": "code",
    "collapsed": true,
    "id": "mXKWoJFQMe09"
   },
   "outputs": [],
   "source": []
  },
  {
   "cell_type": "markdown",
   "metadata": {
    "colab_type": "text",
    "id": "y0wmL8vgMe1D"
   },
   "source": [
    "<h4>Animação</h4>"
   ]
  },
  {
   "cell_type": "code",
   "execution_count": 0,
   "metadata": {
    "colab": {},
    "colab_type": "code",
    "collapsed": true,
    "id": "oRou8MTwMe1E"
   },
   "outputs": [],
   "source": []
  },
  {
   "cell_type": "markdown",
   "metadata": {
    "colab_type": "text",
    "id": "qfM-WbioNK7Y"
   },
   "source": [
    "\n",
    "\n",
    "---\n",
    "\n",
    "---"
   ]
  },
  {
   "cell_type": "markdown",
   "metadata": {
    "colab_type": "text",
    "id": "yWbMOFlaMgvK"
   },
   "source": [
    "<h2>Movimento Circular</h2>\n",
    "\n"
   ]
  },
  {
   "cell_type": "markdown",
   "metadata": {
    "colab_type": "text",
    "id": "5oIgODjwMgvV"
   },
   "source": [
    "<h4>Solução analítica sem atrito</h4>\n",
    "\n",
    "Explicação aqui"
   ]
  },
  {
   "cell_type": "code",
   "execution_count": 0,
   "metadata": {
    "colab": {},
    "colab_type": "code",
    "collapsed": true,
    "id": "11DngsFZMgva"
   },
   "outputs": [],
   "source": []
  },
  {
   "cell_type": "markdown",
   "metadata": {
    "colab_type": "text",
    "id": "2fW0XsioMgvr"
   },
   "source": [
    "<h4>Solução de Euler sem atrito</h4>\n",
    "\n",
    "Explicação aqui"
   ]
  },
  {
   "cell_type": "code",
   "execution_count": 0,
   "metadata": {
    "colab": {},
    "colab_type": "code",
    "collapsed": true,
    "id": "9pnL-meeMgvs"
   },
   "outputs": [],
   "source": []
  },
  {
   "cell_type": "markdown",
   "metadata": {
    "colab_type": "text",
    "id": "mloDYj9KMgv2"
   },
   "source": [
    "<h4>Comparação das duas implementações e diferenças encontradas</h4>\n",
    "\n",
    "Explicação aqui"
   ]
  },
  {
   "cell_type": "code",
   "execution_count": 0,
   "metadata": {
    "colab": {},
    "colab_type": "code",
    "collapsed": true,
    "id": "zRLyONJ7Mgv2"
   },
   "outputs": [],
   "source": []
  },
  {
   "cell_type": "markdown",
   "metadata": {
    "colab_type": "text",
    "id": "s1Azp2_SMgv-"
   },
   "source": [
    "<h4>Solução de Euler com atrito</h4>\n",
    "\n",
    "Explicação aqui"
   ]
  },
  {
   "cell_type": "code",
   "execution_count": 0,
   "metadata": {
    "colab": {},
    "colab_type": "code",
    "collapsed": true,
    "id": "s0VsJ9NcMgv_"
   },
   "outputs": [],
   "source": []
  },
  {
   "cell_type": "markdown",
   "metadata": {
    "colab_type": "text",
    "id": "TKCQrH2jMgwF"
   },
   "source": [
    "<h4>Animação</h4>"
   ]
  },
  {
   "cell_type": "code",
   "execution_count": 0,
   "metadata": {
    "colab": {},
    "colab_type": "code",
    "collapsed": true,
    "id": "oNq8AqUrMgwH"
   },
   "outputs": [],
   "source": []
  }
 ],
 "metadata": {
  "celltoolbar": "Raw Cell Format",
  "colab": {
   "collapsed_sections": [],
   "include_colab_link": true,
   "name": "ep1.ipynb",
   "provenance": []
  },
  "kernelspec": {
   "display_name": "Python 3",
   "language": "python",
   "name": "python3"
  },
  "language_info": {
   "codemirror_mode": {
    "name": "ipython",
    "version": 3
   },
   "file_extension": ".py",
   "mimetype": "text/x-python",
   "name": "python",
   "nbconvert_exporter": "python",
   "pygments_lexer": "ipython3",
   "version": "3.5.3"
  }
 },
 "nbformat": 4,
 "nbformat_minor": 0
}
