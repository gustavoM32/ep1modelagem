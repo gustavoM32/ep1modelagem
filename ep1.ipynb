{
  "cells": [
    {
      "cell_type": "markdown",
      "metadata": {
        "colab_type": "text",
        "id": "zqvSg7eeEawc"
      },
      "source": [
        "<h1>EP1 MODELAGEM</h1>\n",
        "\n",
        "<h5>Nomes:</h5>\n",
        "\n",
        "- Davi de Menezes Pereira, 11221988\n",
        "- Gustavo de Medeiros Carlos, 11276298\n",
        "- Lucas Irineu Rebouças Guimarães, 11221713\n",
        "- Luciano Rodrigues Saraiva Leão, 11221817\n",
        "- Luiza Barros Reis Soezima, 11221842\n",
        "- Marcos Siolin Martins, 11221709\n",
        "\n"
      ]
    },
    {
      "cell_type": "markdown",
      "metadata": {
        "colab_type": "text",
        "id": "yinKUWtGL47a"
      },
      "source": [
        "Não esquecer de utilizar a notação descrita no Enunciado embora claro q não faça o menor sentido inclusive o Gustavo não quis usar para não ficar confuso no caso do $x_0$ que ficaria ${x_0}_s$ ou ${x_s}_0$, enfim algo muito feio e ridículo logo decidi não fazer msm pq nada a ver."
      ]
    },
    {
      "cell_type": "markdown",
      "metadata": {
        "colab_type": "text",
        "id": "-8H9dLxbLZ_m"
      },
      "source": [
        "<h4>Imports</h4>"
      ]
    },
    {
      "cell_type": "code",
      "metadata": {
        "colab_type": "code",
        "id": "tVaZJoWhLWUm",
        "colab": {}
      },
      "source": [
        "import numpy as np\n",
        "import matplotlib.pyplot as plt\n",
        "from matplotlib import animation, rc\n",
        "import pandas as pd"
      ],
      "execution_count": null,
      "outputs": []
    },
    {
      "cell_type": "markdown",
      "metadata": {
        "colab_type": "text",
        "id": "tROuCO3jKGem"
      },
      "source": [
        "<h2>Movimento retilíneo uniforme e uniformemente variado</h2>\n",
        "\n",
        "Nesses dois movimentos a aceleração é constante e chamaremos ela de $a$. No movimento retilínio uniforme temos que $a = 0$.\n",
        "\n",
        "<h4>Solução analítica sem atrito</h4>\n",
        "\n",
        "Resolvendo a equação diferencial,\n",
        "\n",
        "\\begin{align*}\n",
        "    \\ddot{x}(t) &= a \\\\\n",
        "    \\int \\ddot{x}(t) dt &= \\int a dt \\\\\n",
        "    \\dot{x}(t) &= at + v_0 \\\\\n",
        "    \\int \\dot{x}(t) dt &= \\int at + v_0 dt \\\\\n",
        "    x(t) &= \\frac{a}{2}t^2 + v_0t + x_0,\n",
        "\\end{align*}\n",
        "\n",
        "obtemos a equação analítica da posição em relação ao tempo do movimento retilínio uniformemente variado.\n",
        "\n",
        "A equação do movimento retilínio uniforme é\n",
        "\n",
        "\\begin{align*}\n",
        "    x(t) &= v_0t + x_0.\n",
        "\\end{align*}"
      ]
    },
    {
      "cell_type": "code",
      "metadata": {
        "colab_type": "code",
        "id": "vxgKvTNUKYu1",
        "colab": {}
      },
      "source": [
        "def proxXA(t, params):\n",
        "    return params[0] * t * t / 2 + params[1] * t + params[2]\n",
        "\n",
        "def proxVA(t, params):\n",
        "    return params[0] * t + params[1]"
      ],
      "execution_count": null,
      "outputs": []
    },
    {
      "cell_type": "markdown",
      "metadata": {
        "colab_type": "text",
        "id": "Vc132-GcKZRw"
      },
      "source": [
        "<h4>Solução de Euler sem atrito</h4>\n",
        "\n",
        "Na solução de Euler, aproximamos a integral pela série de Taylor. Sabendo que $\\ddot{x}(t) = a$, vemos que\n",
        "\n",
        "\\begin{align*}\n",
        "    \\ddot{x}(t) &= \\frac{\\dot{x}(t + \\Delta t) - \\dot{x}(t)}{\\Delta t} \\\\\n",
        "    \\ddot{x}(t)\\Delta t &= \\dot{x}(t + \\Delta t) - \\dot{x}(t) \\\\\n",
        "    \\dot{x}(t + \\Delta t) &= \\dot{x}(t) + \\ddot{x}(t)\\Delta t \\\\\n",
        "    v(t + \\Delta t) &= v(t) + a\\Delta t\n",
        "\\end{align*}\n",
        "\n",
        "e que\n",
        "\n",
        "\\begin{align*}\n",
        "    \\dot{x}(t) &= \\frac{x(t + \\Delta t) - x(t)}{\\Delta t} \\\\\n",
        "    \\dot{x}(t)\\Delta t &= x(t + \\Delta t) - x(t) \\\\\n",
        "    x(t + \\Delta t) &= x(t) + \\dot{x}(t)\\Delta t \\\\\n",
        "    x(t + \\Delta t) &= x(t) + v(t)\\Delta t.\n",
        "\\end{align*}"
      ]
    },
    {
      "cell_type": "code",
      "metadata": {
        "colab_type": "code",
        "id": "Ux2L2pzBKlnu",
        "colab": {}
      },
      "source": [
        "def proxVE(v, t, dt, params):\n",
        "    return v + params[0] * dt\n",
        "\n",
        "def proxXE(x, v, dt):\n",
        "    return x + v * dt"
      ],
      "execution_count": null,
      "outputs": []
    },
    {
      "cell_type": "markdown",
      "metadata": {
        "colab_type": "text",
        "id": "m7IO4K9cKmFF"
      },
      "source": [
        "<h4>Comparação das duas implementações e diferenças encontradas</h4>\n",
        "\n",
        "Na versão analítica podemos obter exatamente a velocidade e a posição quando quisermos, de maneira independente, já na versão de Euler, precisamos calcular a velocidade primeiro para depois calcular a posição em cada intervalo. Como a velocidade é uma reta por a aceleração ser constante, não cometemos erro ao aproximar pela série de Taylor de ordem 1. O mesmo não acontece em relação a posição, e o erro vai acumulando com o tempo, como é possível ver no gráfico."
      ]
    },
    {
      "cell_type": "markdown",
      "metadata": {
        "colab_type": "text",
        "id": "EvegQbwQLP0b"
      },
      "source": [
        "<h4>Animação</h4>\n",
        "\n",
        "O primeiro gráfico representa a posição em relação ao tempo, o segundo representa a velocidade em relação ao tempo. Em azul está o movimento pela implementação analítica e em laranja tracejado está o movimento pela implementação de Euler. Os parâmetros da utilizados de exemplo são\n",
        "\\begin{align*}\n",
        "    a &= 2 \\\\\n",
        "    v_0 &= 5 \\\\\n",
        "    x_0 &= 10.\n",
        "\\end{align*}"
      ]
    },
    {
      "cell_type": "code",
      "execution_count": null,
      "metadata": {},
      "outputs": [],
      "source": [
        "params = [2, 5, 10] # [a, v, x]\n",
        "t = 0 # tempo atual\n",
        "tf = 10 # tempo final\n",
        "dt = 1 # intervalo de tempo\n",
        "v = params[1] # velocidade atual\n",
        "x = params[2] # posição atual\n",
        "\n",
        "valoresXA = []\n",
        "valoresVA = []\n",
        "valoresXE = []\n",
        "valoresVE = []\n",
        "\n",
        "while t <= tf:\n",
        "    valoresVA.append(proxVA(t, params))\n",
        "    valoresXA.append(proxXA(t, params))\n",
        "    valoresVE.append(v)\n",
        "    valoresXE.append(x)\n",
        "    v = proxVE(v, t, dt, params)\n",
        "    x = proxXE(x, v, dt)\n",
        "    t += dt\n",
        "\n",
        "# grafico de posição\n",
        "plt.plot(valoresXA, label='Analítico')\n",
        "plt.plot(valoresXE, label='Euler', linestyle=':', marker='D')\n",
        "plt.title('Posição')\n",
        "plt.xlabel('tempo')\n",
        "plt.ylabel('posição')\n",
        "plt.show()\n",
        "\n",
        "# grafico de velocidade\n",
        "plt.plot(valoresVA, label='Analítico')\n",
        "plt.plot(valoresVE, label='Euler', linestyle=':', marker='D')\n",
        "plt.title('Velocidade')\n",
        "plt.xlabel('tempo')\n",
        "plt.ylabel('velocidade')\n",
        "plt.show()"
      ]
    },
    {
      "cell_type": "markdown",
      "metadata": {
        "colab_type": "text",
        "id": "EvegQbwQLP0b"
      },
      "source": [
        "<h4>Animação</h4>\n",
        "\n",
        "Animação de um movimento acelerado pela implementação analítica."
      ]
    },
    {
      "cell_type": "code",
      "metadata": {
        "colab_type": "code",
        "id": "LJihmMEELUWH",
        "outputId": "bfce81b3-a7bd-4170-c9f3-953d5addb4a3",
        "colab": {
          "base_uri": "https://localhost:8080/",
          "height": 935
        }
      },
      "source": [
        "fig = plt.figure()\n",
        "ax = plt.axes(xlim=(0, proxXA(tf, params)), ylim=(-1, 1))\n",
        "line, = ax.plot([], [], 'D', lw=2)\n",
        "plt.title('Animação')\n",
        "plt.xlabel('posição')\n",
        "plt.yticks([])\n",
        "plt.close()\n",
        "\n",
        "\n",
        "def init():\n",
        "    line.set_data([], [])\n",
        "    return line,\n",
        "\n",
        "framerate = 20\n",
        "\n",
        "def animate(i):\n",
        "    ti = i/framerate\n",
        "    x = proxXA(ti, params)\n",
        "    y = 0\n",
        "    line.set_data(x, y)\n",
        "    return line,\n",
        "\n",
        "anim = animation.FuncAnimation(fig, animate, init_func=init,\n",
        "                               frames=tf*framerate, interval=1000/framerate, blit=True)\n",
        "rc('animation', html='jshtml')\n",
        "\n",
        "anim\n",
        "\n"
      ],
      "execution_count": null,
      "outputs": []
    },
    {
      "cell_type": "markdown",
      "metadata": {
        "colab_type": "text",
        "id": "iyJsGgK2NIuv"
      },
      "source": [
        "\n",
        "\n",
        "\n",
        "\n",
        "\n",
        "\n",
        "---\n",
        "\n",
        "---"
      ]
    },
    {
      "cell_type": "markdown",
      "metadata": {
        "colab_type": "text",
        "id": "U2mEIetlMX0h"
      },
      "source": [
        "<h2>Queda Livre</h2>\n",
        "\n"
      ]
    },
    {
      "cell_type": "markdown",
      "metadata": {
        "colab_type": "text",
        "id": "SLsb8y5WMX0u"
      },
      "source": [
        "<h4>Solução analítica</h4>\n",
        "\n",
        "No movimento de queda livre com resistência do ar para velocidades baixas consideramos a resistência do ar como sendo \"-kv\". Portanto, temos:\n",
        "\n",
        "\\begin{align*}\n",
        "    \\ddot{y}(t) &= g - \\frac{k\\dot{y}(t)}{m} \\\\\n",
        "    \\frac{\\ddot{y}(t)}{\\dot{y}(t) + \\frac{mg}{k}} &= -\\frac{k}{m}\\\\\n",
        "     \\int_0^v \\frac{\\ddot{y}(t)}{\\dot{y}(t) + \\frac{mg}{k}} &= \\int_0^t -\\frac{k}{m}dt\\\\\n",
        "    -\\ln{\\frac{1 + \\frac{kv}{mg}}{1 + \\frac{k.0}{mg}}} &= \\frac{kt}{m}\\\\\n",
        "    v &= - \\frac{mg}{k}(1 - e^{-\\frac{kt}{m}})\\\\\n",
        "\\end{align*}\n",
        "\n",
        "Agora que achamos a equação horária da velocidade, integramos mais uma vez para achar a equação horária do y:\n",
        "\n",
        "\\begin{align*}\n",
        "    \\int \\dot{y}(t) &= \\int_0^t - \\frac{mg}{k}(1 - e^{-\\frac{kt}{m}})dt\\\\\n",
        "    y(t) &= - \\frac{mgt}{k} + \\frac{mg}{k}\\int_0^t e^{-\\frac{kt}{m}}dt\\\\\n",
        "    y(t) &= - \\frac{mgt}{k} - \\frac{m²g}{k²} (e^{-\\frac{kt}{m}} - 1)\\\\\n",
        "    y(t) &= - \\frac{mgt}{k} - \\frac{m^{2}g}{k^{2}}e^{-\\frac{kt}{m}} + \\frac{m²g}{k²} \\\\\n",
        "\\end{align*}\n",
        "\n",
        "Assim, obtemos a equação analítica da posição em relação ao tempo do movimento queda livre.\n",
        "\n",
        "A equação do movimento queda livre é:\n",
        "\n",
        "\\begin{align*}\n",
        "   y(t) &= y_0 - \\frac{mgt}{k} - \\frac{m^{2}g}{k^{2}}e^{-\\frac{kt}{m}} + \\frac{m²g}{k²} \\\\\\\\\n",
        "\\end{align*}"
      ]
    },
    {
      "cell_type": "code",
      "metadata": {
        "colab_type": "code",
        "id": "fdQ3O3tCMX02",
        "colab": {}
      },
      "source": [
        "# params[0]: a ; params[1]: v; params[2]: x; params[3]: m ???\n",
        "def QLproxYA(t, m, g, k, params):\n",
        "    expo = math.exp(-(k*t)/params[3])\n",
        "    return -(m*g*t)/k - m*m*g*expo/(k*k) + (m*m*g/(k*k)\n",
        "\n",
        "def QLproxVA(t, g, k, params):\n",
        "    expo = math.exp(-(k*t)/params[3])\n",
        "    return (params[3]*g*expo)/k - (params[3]*g)/k"
      ],
      "execution_count": null,
      "outputs": []
    },
    {
      "cell_type": "markdown",
      "metadata": {
        "colab_type": "text",
        "id": "BpKRssXBMX1K"
      },
      "source": [
        "Na solução de Euler, aproximamos a integral pela série de Taylor. Sabendo que $\\ddot{x}(t) = a$, vemos que\n",
        "\n",
        "\\begin{align*}\n",
        "    \\ddot{x}(t) &= \\frac{\\dot{x}(t + \\Delta t) - \\dot{x}(t)}{\\Delta t} \\\\\n",
        "    \\ddot{x}(t)\\Delta t &= \\dot{x}(t + \\Delta t) - \\dot{x}(t) \\\\\n",
        "    \\dot{x}(t + \\Delta t) &= \\dot{x}(t) + \\ddot{x}(t)\\Delta t \\\\\n",
        "    v(t + \\Delta t) &= v(t) + a\\Delta t\n",
        "\\end{align*}\n",
        "\n",
        "e que\n",
        "\n",
        "\\begin{align*}\n",
        "    \\dot{x}(t) &= \\frac{x(t + \\Delta t) - x(t)}{\\Delta t} \\\\\n",
        "    \\dot{x}(t)\\Delta t &= x(t + \\Delta t) - x(t) \\\\\n",
        "    x(t + \\Delta t) &= x(t) + \\dot{x}(t)\\Delta t \\\\\n",
        "    x(t + \\Delta t) &= x(t) + v(t)\\Delta t.\n",
        "\\end{align*}"
      ]
    },
    {
      "cell_type": "code",
      "metadata": {
        "colab_type": "code",
        "id": "8K5GXyLqMX1M",
        "colab": {}
      },
      "source": [
        "def proxVE(v, t, dt, params):\n",
        "    return v - params[0] * dt\n",
        "\n",
        "def proxYE(y, v, dt):\n",
        "    return y + v * dt"
      ],
      "execution_count": null,
      "outputs": []
    },
    {
      "cell_type": "markdown",
      "metadata": {
        "colab_type": "text",
        "id": "x8fjEyQMMX1X"
      },
      "source": [
        "<h4>Comparação das duas implementações e diferenças encontradas</h4>\n",
        "\n",
        "Explicação aqui"
      ]
    },
    {
      "cell_type": "code",
      "metadata": {
        "colab_type": "code",
        "id": "wkDoWkemMX1X",
        "colab": {}
      },
      "source": [
        ""
      ],
      "execution_count": null,
      "outputs": []
    },
    {
      "cell_type": "markdown",
      "metadata": {
        "colab_type": "text",
        "id": "dtl0RiNCMX1m"
      },
      "source": [
        "<h4>Animação</h4>"
      ]
    },
    {
      "cell_type": "code",
      "metadata": {
        "colab_type": "code",
        "id": "NrUojR8TMX1n",
        "colab": {
          "base_uri": "https://localhost:8080/",
          "height": 399
        },
        "outputId": "2a32ffc5-9401-4b11-9c13-fa12650c64cd"
      },
      "source": [
        "#\n",
        "\n",
        "t = 0\n",
        "tf = 10\n",
        "params = [-10, -5, 200]\n",
        "v = params[1]\n",
        "y = params[2]\n",
        "dt = 1\n",
        "\n",
        "valoresYA = []\n",
        "valoresVA = []\n",
        "valoresYE = []\n",
        "valoresVE = []\n",
        "\n",
        "while t <= tf:\n",
        "    valoresVA.append(proxVA(t, params))\n",
        "    valoresYA.append(proxYA(t, params))\n",
        "    valoresVE.append(v)\n",
        "    valoresYE.append(y)\n",
        "    v = proxVE(v, t, dt, params)\n",
        "    y = proxYE(y, v, dt)\n",
        "    t += dt\n",
        "\n",
        "#print(valoresYA)\n",
        "\n",
        "#plt.plot(valoresXA, label='Analítico')\n",
        "#plt.plot(valoresXE, label='Euler', linestyle=':', marker='D')\n",
        "#plt.title('Posição')\n",
        "#plt.xlabel('tempo')\n",
        "#plt.ylabel('posição')\n",
        "#plt.show()\n",
        "\n",
        "#plt.plot(valoresVA, label='Analítico')\n",
        "#plt.plot(valoresVE, label='Euler', linestyle=':', marker='D')\n",
        "#plt.title('Velocidade')\n",
        "#plt.xlabel('tempo')\n",
        "#plt.ylabel('velocidade')\n",
        "#plt.show()\n",
        "\n",
        "fig = plt.figure()\n",
        "ax = plt.axes(xlim=(-1, 1), ylim=(proxYA(tf, params), params[2]))\n",
        "line, = ax.plot([], [], 'D', lw=2)\n",
        "plt.title('Animação')\n",
        "plt.ylabel('posição')\n",
        "plt.xticks([])\n",
        "plt.close()\n",
        "\n",
        "def init():\n",
        "    line.set_data([], [])\n",
        "    return line,\n",
        "\n",
        "framerate = 20\n",
        "\n",
        "def animate(i):\n",
        "    ti = i/framerate\n",
        "    y = proxYA(ti, params)\n",
        "    x = 0\n",
        "    line.set_data(x, y)\n",
        "    return line,\n",
        "\n",
        "anim = animation.FuncAnimation(fig, animate, init_func=init,\n",
        "                               frames=tf*framerate, interval=1000/framerate, blit=True)\n",
        "rc('animation', html='jshtml')\n",
        "\n",
        "anim"
      ],
      "execution_count": null,
      "outputs": []
    },
    {
      "cell_type": "markdown",
      "metadata": {
        "colab_type": "text",
        "id": "k8X9UpF_M5fr"
      },
      "source": [
        "\n",
        "\n",
        "---\n",
        "\n",
        "---"
      ]
    },
    {
      "cell_type": "markdown",
      "metadata": {
        "colab_type": "text",
        "id": "GKc3TwkTMYiA"
      },
      "source": [
        "<h2>Pêndulo</h2>\n",
        "\n"
      ]
    },
    {
      "cell_type": "markdown",
      "metadata": {
        "colab_type": "text",
        "id": "_yshH0VtMYiH"
      },
      "source": [
        "<h4>Solução analítica</h4>\n",
        "\n",
        "![]( data:image/png;base64,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)\n",
        "\n",
        "Para $\\theta$  pequeno podemos dizer que $a_s$ e $v_s$ são horizontais e portanto há equilíbrio na vertical.\n",
        "$$  T_y = m g ~~ \\rightarrow ~~ T = mg ~sec~ \\theta_s $$\n",
        "\n",
        "Calculando agora a aceleração no eixo horizontal e usando a aproximação $tg ~ \\theta_s ~ \\approx ~\\theta_s \\approx ~ \\frac{x_s}{L}$:\n",
        "$$ ma_s = - T_x ~~ \\rightarrow ~~ m a_s = - mg ~ tg ~ \\theta_s   $$\n",
        "$$\\rightarrow a_s + \\frac{g}{L} ~x_s = 0$$\n",
        "\n",
        "Resolvendo essa equação diferencial obtemos que:\n",
        "$$ x_s(t) ~ = ~ A ~cos \\left( \\omega t ~+~ \\phi_0  \\right) ~~~ com ~~~ \\omega ~ = ~\\sqrt\\frac{g}{L}  ~~ e ~~ A \\ll L   $$\n",
        "\n",
        "Para achar o $~y_s(t)$  podemos ver na geometria que $(L-y_s)^2 + x_s^2 ~ = L^2~$, então:\n",
        "$$ y_s(t) ~ = ~ L ~-  ~\\sqrt{L^2 -  (~A ~cos \\left( \\omega t ~+~ \\phi_0  \\right)~)^2}    $$"
      ]
    },
    {
      "cell_type": "code",
      "metadata": {
        "colab_type": "code",
        "id": "_H91VPzSMYiM",
        "colab": {}
      },
      "source": [
        ""
      ],
      "execution_count": null,
      "outputs": []
    },
    {
      "cell_type": "markdown",
      "metadata": {
        "colab_type": "text",
        "id": "3qbtzR2gMYic"
      },
      "source": [
        "<h4>Solução de Euler sem atrito</h4>\n",
        "\n",
        "Explicação aqui"
      ]
    },
    {
      "cell_type": "code",
      "metadata": {
        "colab_type": "code",
        "id": "oPIn_PQ4MYie",
        "colab": {}
      },
      "source": [
        ""
      ],
      "execution_count": null,
      "outputs": []
    },
    {
      "cell_type": "markdown",
      "metadata": {
        "colab_type": "text",
        "id": "PuCyEihNMYim"
      },
      "source": [
        "<h4>Comparação das duas implementações e diferenças encontradas</h4>\n",
        "\n",
        "Explicação aqui"
      ]
    },
    {
      "cell_type": "code",
      "metadata": {
        "colab_type": "code",
        "id": "eZNQMQ0VMYin",
        "colab": {}
      },
      "source": [
        ""
      ],
      "execution_count": null,
      "outputs": []
    },
    {
      "cell_type": "markdown",
      "metadata": {
        "colab_type": "text",
        "id": "jeK6VbmdMYi1"
      },
      "source": [
        "<h4>Animação</h4>"
      ]
    },
    {
      "cell_type": "code",
      "metadata": {
        "colab_type": "code",
        "id": "q_-njFM8MYi2",
        "colab": {}
      },
      "source": [
        ""
      ],
      "execution_count": null,
      "outputs": []
    },
    {
      "cell_type": "markdown",
      "metadata": {
        "colab_type": "text",
        "id": "rtvj8kw6NKSb"
      },
      "source": [
        "\n",
        "\n",
        "---\n",
        "\n",
        "---"
      ]
    },
    {
      "cell_type": "markdown",
      "metadata": {
        "colab_type": "text",
        "id": "b-yY2T97Mezv"
      },
      "source": [
        "<h2>Bloco em rampa</h2>\n",
        "\n"
      ]
    },
    {
      "cell_type": "markdown",
      "metadata": {
        "colab_type": "text",
        "id": "tPrY-dQLMe0D"
      },
      "source": [
        "<h4>Solução analítica sem atrito</h4>\n",
        "\n",
        "Explicação aqui"
      ]
    },
    {
      "cell_type": "code",
      "metadata": {
        "colab_type": "code",
        "id": "94Q79ygDMe0P",
        "colab": {}
      },
      "source": [
        ""
      ],
      "execution_count": null,
      "outputs": []
    },
    {
      "cell_type": "markdown",
      "metadata": {
        "colab_type": "text",
        "id": "21YopoDjMe0k"
      },
      "source": [
        "<h4>Solução de Euler sem atrito</h4>\n",
        "\n",
        "Explicação aqui"
      ]
    },
    {
      "cell_type": "code",
      "metadata": {
        "colab_type": "code",
        "id": "0RD5WDaXMe0n",
        "colab": {}
      },
      "source": [
        ""
      ],
      "execution_count": null,
      "outputs": []
    },
    {
      "cell_type": "markdown",
      "metadata": {
        "colab_type": "text",
        "id": "ICdGmITWMe01"
      },
      "source": [
        "<h4>Comparação das duas implementações e diferenças encontradas</h4>\n",
        "\n",
        "Explicação aqui"
      ]
    },
    {
      "cell_type": "code",
      "metadata": {
        "colab_type": "code",
        "id": "r6QPrDfkMe01",
        "colab": {}
      },
      "source": [
        ""
      ],
      "execution_count": null,
      "outputs": []
    },
    {
      "cell_type": "markdown",
      "metadata": {
        "colab_type": "text",
        "id": "y0wmL8vgMe1D"
      },
      "source": [
        "<h4>Animação</h4>"
      ]
    },
    {
      "cell_type": "code",
      "metadata": {
        "colab_type": "code",
        "id": "oRou8MTwMe1E",
        "colab": {}
      },
      "source": [
        ""
      ],
      "execution_count": null,
      "outputs": []
    },
    {
      "cell_type": "markdown",
      "metadata": {
        "colab_type": "text",
        "id": "qfM-WbioNK7Y"
      },
      "source": [
        "\n",
        "\n",
        "---\n",
        "\n",
        "---"
      ]
    },
    {
      "cell_type": "markdown",
      "metadata": {
        "colab_type": "text",
        "id": "yWbMOFlaMgvK"
      },
      "source": [
        "<h2>Movimento Circular</h2>\n",
        "\n"
      ]
    },
    {
      "cell_type": "markdown",
      "metadata": {
        "colab_type": "text",
        "id": "5oIgODjwMgvV"
      },
      "source": [
        "<h4>Solução analítica sem atrito</h4>\n",
        "\n",
        "Explicação aqui"
      ]
    },
    {
      "cell_type": "code",
      "metadata": {
        "colab_type": "code",
        "id": "11DngsFZMgva",
        "colab": {}
      },
      "source": [
        ""
      ],
      "execution_count": null,
      "outputs": []
    },
    {
      "cell_type": "markdown",
      "metadata": {
        "colab_type": "text",
        "id": "2fW0XsioMgvr"
      },
      "source": [
        "<h4>Solução de Euler sem atrito</h4>\n",
        "\n",
        "Explicação aqui"
      ]
    },
    {
      "cell_type": "code",
      "metadata": {
        "colab_type": "code",
        "id": "9pnL-meeMgvs",
        "colab": {}
      },
      "source": [
        ""
      ],
      "execution_count": null,
      "outputs": []
    },
    {
      "cell_type": "markdown",
      "metadata": {
        "colab_type": "text",
        "id": "mloDYj9KMgv2"
      },
      "source": [
        "<h4>Comparação das duas implementações e diferenças encontradas</h4>\n",
        "\n",
        "Explicação aqui"
      ]
    },
    {
      "cell_type": "code",
      "metadata": {
        "colab_type": "code",
        "id": "zRLyONJ7Mgv2",
        "colab": {}
      },
      "source": [
        ""
      ],
      "execution_count": null,
      "outputs": []
    },
    {
      "cell_type": "markdown",
      "metadata": {
        "colab_type": "text",
        "id": "TKCQrH2jMgwF"
      },
      "source": [
        "<h4>Animação</h4>"
      ]
    },
    {
      "cell_type": "code",
      "metadata": {
        "colab_type": "code",
        "id": "oNq8AqUrMgwH",
        "colab": {}
      },
      "source": [
        ""
      ],
      "execution_count": null,
      "outputs": []
    }
  ],
  "metadata": {
    "celltoolbar": "Raw Cell Format",
    "colab": {
      "name": "ep1.ipynb",
      "provenance": [],
      "collapsed_sections": []
    },
    "kernelspec": {
      "display_name": "Python 3",
      "language": "python",
      "name": "python3"
    },
    "language_info": {
      "codemirror_mode": {
        "name": "ipython",
        "version": 3
      },
      "file_extension": ".py",
      "mimetype": "text/x-python",
      "name": "python",
      "nbconvert_exporter": "python",
      "pygments_lexer": "ipython3",
      "version": "3.5.3-final"
    }
  },
  "nbformat": 4,
  "nbformat_minor": 0
}
