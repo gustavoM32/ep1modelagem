{
  "nbformat": 4,
  "nbformat_minor": 0,
  "metadata": {
    "colab": {
      "name": "ep1.ipynb",
      "provenance": [],
      "collapsed_sections": [],
      "include_colab_link": true
    },
    "kernelspec": {
      "name": "python3",
      "display_name": "Python 3"
    }
  },
  "cells": [
    {
      "cell_type": "markdown",
      "metadata": {
        "id": "view-in-github",
        "colab_type": "text"
      },
      "source": [
        "<a href=\"https://colab.research.google.com/github/siolinm/ep1modelagem/blob/master/ep1.ipynb\" target=\"_parent\"><img src=\"https://colab.research.google.com/assets/colab-badge.svg\" alt=\"Open In Colab\"/></a>"
      ]
    },
    {
      "cell_type": "markdown",
      "metadata": {
        "id": "zqvSg7eeEawc",
        "colab_type": "text"
      },
      "source": [
        "<h1>EP1 MODELAGEM</h1>\n",
        "\n",
        "<h5>Nomes:</h5>\n",
        "\n",
        "- Davi de Menezes Pereira, 11221988\n",
        "- Gustavo de Medeiros Carlos, 11276298\n",
        "- Lucas Irineu Rebouças Guimarães, 11221713\n",
        "- Luciano Rodrigues Saraiva Leão, 11221817\n",
        "- Luiza Barros Reis Soezima, 11221842\n",
        "- Marcos Siolin Martins, 11221709\n",
        "\n"
      ]
    },
    {
      "cell_type": "markdown",
      "metadata": {
        "id": "yinKUWtGL47a",
        "colab_type": "text"
      },
      "source": [
        "<h3>Não esquecer de utilizar a notação descrita no Enunciado</h3>\n"
      ]
    },
    {
      "cell_type": "markdown",
      "metadata": {
        "id": "-8H9dLxbLZ_m",
        "colab_type": "text"
      },
      "source": [
        "<h4>Imports</h4>"
      ]
    },
    {
      "cell_type": "code",
      "metadata": {
        "id": "tVaZJoWhLWUm",
        "colab_type": "code",
        "colab": {}
      },
      "source": [
        "import numpy as np\n",
        "import matplotlib.pyplot as plt\n",
        "import pandas as pd"
      ],
      "execution_count": 0,
      "outputs": []
    },
    {
      "cell_type": "markdown",
      "metadata": {
        "id": "-93ilG2nJKk-",
        "colab_type": "text"
      },
      "source": [
        "<h2>Movimento retilíneo uniforme e uniformemente variado</h2>\n",
        "\n"
      ]
    },
    {
      "cell_type": "markdown",
      "metadata": {
        "id": "tROuCO3jKGem",
        "colab_type": "text"
      },
      "source": [
        "<h4>Solução analítica sem atrito</h4>\n",
        "\n",
        "Explicação aqui"
      ]
    },
    {
      "cell_type": "code",
      "metadata": {
        "id": "vxgKvTNUKYu1",
        "colab_type": "code",
        "colab": {}
      },
      "source": [
        ""
      ],
      "execution_count": 0,
      "outputs": []
    },
    {
      "cell_type": "markdown",
      "metadata": {
        "id": "Vc132-GcKZRw",
        "colab_type": "text"
      },
      "source": [
        "<h4>Solução de Euler sem atrito</h4>\n",
        "\n",
        "Explicação aqui"
      ]
    },
    {
      "cell_type": "code",
      "metadata": {
        "id": "Ux2L2pzBKlnu",
        "colab_type": "code",
        "colab": {}
      },
      "source": [
        ""
      ],
      "execution_count": 0,
      "outputs": []
    },
    {
      "cell_type": "markdown",
      "metadata": {
        "id": "m7IO4K9cKmFF",
        "colab_type": "text"
      },
      "source": [
        "<h4>Comparação das duas implementações e diferenças encontradas</h4>\n",
        "\n",
        "Explicação aqui"
      ]
    },
    {
      "cell_type": "code",
      "metadata": {
        "id": "xrMQR3QgKzDp",
        "colab_type": "code",
        "colab": {}
      },
      "source": [
        ""
      ],
      "execution_count": 0,
      "outputs": []
    },
    {
      "cell_type": "markdown",
      "metadata": {
        "id": "fvJe7IW_K1tJ",
        "colab_type": "text"
      },
      "source": [
        "<h4>Solução de Euler com atrito</h4>\n",
        "\n",
        "Explicação aqui"
      ]
    },
    {
      "cell_type": "code",
      "metadata": {
        "id": "20Wiry0hK8ET",
        "colab_type": "code",
        "colab": {}
      },
      "source": [
        ""
      ],
      "execution_count": 0,
      "outputs": []
    },
    {
      "cell_type": "markdown",
      "metadata": {
        "id": "EvegQbwQLP0b",
        "colab_type": "text"
      },
      "source": [
        "<h4>Animação</h4>"
      ]
    },
    {
      "cell_type": "code",
      "metadata": {
        "id": "LJihmMEELUWH",
        "colab_type": "code",
        "colab": {}
      },
      "source": [
        ""
      ],
      "execution_count": 0,
      "outputs": []
    },
    {
      "cell_type": "markdown",
      "metadata": {
        "colab_type": "text",
        "id": "iyJsGgK2NIuv"
      },
      "source": [
        "\n",
        "\n",
        "\n",
        "\n",
        "\n",
        "\n",
        "---\n",
        "\n",
        "---"
      ]
    },
    {
      "cell_type": "markdown",
      "metadata": {
        "colab_type": "text",
        "id": "U2mEIetlMX0h"
      },
      "source": [
        "<h2>Queda Livre</h2>\n",
        "\n"
      ]
    },
    {
      "cell_type": "markdown",
      "metadata": {
        "colab_type": "text",
        "id": "SLsb8y5WMX0u"
      },
      "source": [
        "<h4>Solução analítica sem atrito</h4>\n",
        "\n",
        "Explicação aqui"
      ]
    },
    {
      "cell_type": "code",
      "metadata": {
        "colab_type": "code",
        "id": "fdQ3O3tCMX02",
        "colab": {}
      },
      "source": [
        ""
      ],
      "execution_count": 0,
      "outputs": []
    },
    {
      "cell_type": "markdown",
      "metadata": {
        "colab_type": "text",
        "id": "BpKRssXBMX1K"
      },
      "source": [
        "<h4>Solução de Euler sem atrito</h4>\n",
        "\n",
        "Explicação aqui"
      ]
    },
    {
      "cell_type": "code",
      "metadata": {
        "colab_type": "code",
        "id": "8K5GXyLqMX1M",
        "colab": {}
      },
      "source": [
        ""
      ],
      "execution_count": 0,
      "outputs": []
    },
    {
      "cell_type": "markdown",
      "metadata": {
        "colab_type": "text",
        "id": "x8fjEyQMMX1X"
      },
      "source": [
        "<h4>Comparação das duas implementações e diferenças encontradas</h4>\n",
        "\n",
        "Explicação aqui"
      ]
    },
    {
      "cell_type": "code",
      "metadata": {
        "colab_type": "code",
        "id": "wkDoWkemMX1X",
        "colab": {}
      },
      "source": [
        ""
      ],
      "execution_count": 0,
      "outputs": []
    },
    {
      "cell_type": "markdown",
      "metadata": {
        "colab_type": "text",
        "id": "ZG9wKoY0MX1e"
      },
      "source": [
        "<h4>Solução de Euler com atrito</h4>\n",
        "\n",
        "Explicação aqui"
      ]
    },
    {
      "cell_type": "code",
      "metadata": {
        "colab_type": "code",
        "id": "nibDE1S4MX1f",
        "colab": {}
      },
      "source": [
        ""
      ],
      "execution_count": 0,
      "outputs": []
    },
    {
      "cell_type": "markdown",
      "metadata": {
        "colab_type": "text",
        "id": "dtl0RiNCMX1m"
      },
      "source": [
        "<h4>Animação</h4>"
      ]
    },
    {
      "cell_type": "code",
      "metadata": {
        "colab_type": "code",
        "id": "NrUojR8TMX1n",
        "colab": {}
      },
      "source": [
        ""
      ],
      "execution_count": 0,
      "outputs": []
    },
    {
      "cell_type": "markdown",
      "metadata": {
        "id": "k8X9UpF_M5fr",
        "colab_type": "text"
      },
      "source": [
        "\n",
        "\n",
        "---\n",
        "\n",
        "---"
      ]
    },
    {
      "cell_type": "markdown",
      "metadata": {
        "colab_type": "text",
        "id": "GKc3TwkTMYiA"
      },
      "source": [
        "<h2>Pêndulo</h2>\n",
        "\n"
      ]
    },
    {
      "cell_type": "markdown",
      "metadata": {
        "colab_type": "text",
        "id": "_yshH0VtMYiH"
      },
      "source": [
        "<h4>Solução analítica sem atrito</h4>\n",
        "\n",
        "Explicação aqui"
      ]
    },
    {
      "cell_type": "code",
      "metadata": {
        "colab_type": "code",
        "id": "_H91VPzSMYiM",
        "colab": {}
      },
      "source": [
        ""
      ],
      "execution_count": 0,
      "outputs": []
    },
    {
      "cell_type": "markdown",
      "metadata": {
        "colab_type": "text",
        "id": "3qbtzR2gMYic"
      },
      "source": [
        "<h4>Solução de Euler sem atrito</h4>\n",
        "\n",
        "Explicação aqui"
      ]
    },
    {
      "cell_type": "code",
      "metadata": {
        "colab_type": "code",
        "id": "oPIn_PQ4MYie",
        "colab": {}
      },
      "source": [
        ""
      ],
      "execution_count": 0,
      "outputs": []
    },
    {
      "cell_type": "markdown",
      "metadata": {
        "colab_type": "text",
        "id": "PuCyEihNMYim"
      },
      "source": [
        "<h4>Comparação das duas implementações e diferenças encontradas</h4>\n",
        "\n",
        "Explicação aqui"
      ]
    },
    {
      "cell_type": "code",
      "metadata": {
        "colab_type": "code",
        "id": "eZNQMQ0VMYin",
        "colab": {}
      },
      "source": [
        ""
      ],
      "execution_count": 0,
      "outputs": []
    },
    {
      "cell_type": "markdown",
      "metadata": {
        "colab_type": "text",
        "id": "c82QPqJVMYit"
      },
      "source": [
        "<h4>Solução de Euler com atrito</h4>\n",
        "\n",
        "Explicação aqui"
      ]
    },
    {
      "cell_type": "code",
      "metadata": {
        "colab_type": "code",
        "id": "5eGAotQNMYiv",
        "colab": {}
      },
      "source": [
        ""
      ],
      "execution_count": 0,
      "outputs": []
    },
    {
      "cell_type": "markdown",
      "metadata": {
        "colab_type": "text",
        "id": "jeK6VbmdMYi1"
      },
      "source": [
        "<h4>Animação</h4>"
      ]
    },
    {
      "cell_type": "code",
      "metadata": {
        "colab_type": "code",
        "id": "q_-njFM8MYi2",
        "colab": {}
      },
      "source": [
        ""
      ],
      "execution_count": 0,
      "outputs": []
    },
    {
      "cell_type": "markdown",
      "metadata": {
        "colab_type": "text",
        "id": "rtvj8kw6NKSb"
      },
      "source": [
        "\n",
        "\n",
        "---\n",
        "\n",
        "---"
      ]
    },
    {
      "cell_type": "markdown",
      "metadata": {
        "colab_type": "text",
        "id": "b-yY2T97Mezv"
      },
      "source": [
        "<h2>Bloco em rampa</h2>\n",
        "\n"
      ]
    },
    {
      "cell_type": "markdown",
      "metadata": {
        "colab_type": "text",
        "id": "tPrY-dQLMe0D"
      },
      "source": [
        "<h4>Solução analítica sem atrito</h4>\n",
        "\n",
        "Explicação aqui"
      ]
    },
    {
      "cell_type": "code",
      "metadata": {
        "colab_type": "code",
        "id": "94Q79ygDMe0P",
        "colab": {}
      },
      "source": [
        ""
      ],
      "execution_count": 0,
      "outputs": []
    },
    {
      "cell_type": "markdown",
      "metadata": {
        "colab_type": "text",
        "id": "21YopoDjMe0k"
      },
      "source": [
        "<h4>Solução de Euler sem atrito</h4>\n",
        "\n",
        "Explicação aqui"
      ]
    },
    {
      "cell_type": "code",
      "metadata": {
        "colab_type": "code",
        "id": "0RD5WDaXMe0n",
        "colab": {}
      },
      "source": [
        ""
      ],
      "execution_count": 0,
      "outputs": []
    },
    {
      "cell_type": "markdown",
      "metadata": {
        "colab_type": "text",
        "id": "ICdGmITWMe01"
      },
      "source": [
        "<h4>Comparação das duas implementações e diferenças encontradas</h4>\n",
        "\n",
        "Explicação aqui"
      ]
    },
    {
      "cell_type": "code",
      "metadata": {
        "colab_type": "code",
        "id": "r6QPrDfkMe01",
        "colab": {}
      },
      "source": [
        ""
      ],
      "execution_count": 0,
      "outputs": []
    },
    {
      "cell_type": "markdown",
      "metadata": {
        "colab_type": "text",
        "id": "dkE_WzShMe08"
      },
      "source": [
        "<h4>Solução de Euler com atrito</h4>\n",
        "\n",
        "Explicação aqui"
      ]
    },
    {
      "cell_type": "code",
      "metadata": {
        "colab_type": "code",
        "id": "mXKWoJFQMe09",
        "colab": {}
      },
      "source": [
        ""
      ],
      "execution_count": 0,
      "outputs": []
    },
    {
      "cell_type": "markdown",
      "metadata": {
        "colab_type": "text",
        "id": "y0wmL8vgMe1D"
      },
      "source": [
        "<h4>Animação</h4>"
      ]
    },
    {
      "cell_type": "code",
      "metadata": {
        "colab_type": "code",
        "id": "oRou8MTwMe1E",
        "colab": {}
      },
      "source": [
        ""
      ],
      "execution_count": 0,
      "outputs": []
    },
    {
      "cell_type": "markdown",
      "metadata": {
        "colab_type": "text",
        "id": "qfM-WbioNK7Y"
      },
      "source": [
        "\n",
        "\n",
        "---\n",
        "\n",
        "---"
      ]
    },
    {
      "cell_type": "markdown",
      "metadata": {
        "colab_type": "text",
        "id": "yWbMOFlaMgvK"
      },
      "source": [
        "<h2>Movimento Circular</h2>\n",
        "\n"
      ]
    },
    {
      "cell_type": "markdown",
      "metadata": {
        "colab_type": "text",
        "id": "5oIgODjwMgvV"
      },
      "source": [
        "<h4>Solução analítica sem atrito</h4>\n",
        "\n",
        "Explicação aqui"
      ]
    },
    {
      "cell_type": "code",
      "metadata": {
        "colab_type": "code",
        "id": "11DngsFZMgva",
        "colab": {}
      },
      "source": [
        ""
      ],
      "execution_count": 0,
      "outputs": []
    },
    {
      "cell_type": "markdown",
      "metadata": {
        "colab_type": "text",
        "id": "2fW0XsioMgvr"
      },
      "source": [
        "<h4>Solução de Euler sem atrito</h4>\n",
        "\n",
        "Explicação aqui"
      ]
    },
    {
      "cell_type": "code",
      "metadata": {
        "colab_type": "code",
        "id": "9pnL-meeMgvs",
        "colab": {}
      },
      "source": [
        ""
      ],
      "execution_count": 0,
      "outputs": []
    },
    {
      "cell_type": "markdown",
      "metadata": {
        "colab_type": "text",
        "id": "mloDYj9KMgv2"
      },
      "source": [
        "<h4>Comparação das duas implementações e diferenças encontradas</h4>\n",
        "\n",
        "Explicação aqui"
      ]
    },
    {
      "cell_type": "code",
      "metadata": {
        "colab_type": "code",
        "id": "zRLyONJ7Mgv2",
        "colab": {}
      },
      "source": [
        ""
      ],
      "execution_count": 0,
      "outputs": []
    },
    {
      "cell_type": "markdown",
      "metadata": {
        "colab_type": "text",
        "id": "s1Azp2_SMgv-"
      },
      "source": [
        "<h4>Solução de Euler com atrito</h4>\n",
        "\n",
        "Explicação aqui"
      ]
    },
    {
      "cell_type": "code",
      "metadata": {
        "colab_type": "code",
        "id": "s0VsJ9NcMgv_",
        "colab": {}
      },
      "source": [
        ""
      ],
      "execution_count": 0,
      "outputs": []
    },
    {
      "cell_type": "markdown",
      "metadata": {
        "colab_type": "text",
        "id": "TKCQrH2jMgwF"
      },
      "source": [
        "<h4>Animação</h4>"
      ]
    },
    {
      "cell_type": "code",
      "metadata": {
        "colab_type": "code",
        "id": "oNq8AqUrMgwH",
        "colab": {}
      },
      "source": [
        ""
      ],
      "execution_count": 0,
      "outputs": []
    }
  ]
}